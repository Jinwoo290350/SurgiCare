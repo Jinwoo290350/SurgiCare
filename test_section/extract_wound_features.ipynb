{
 "cells": [
  {
   "cell_type": "code",
   "execution_count": 1,
   "metadata": {},
   "outputs": [
    {
     "name": "stderr",
     "output_type": "stream",
     "text": [
      "/Users/pogus-mac/Documents/Project-VScode/Surgicare/.venv/lib/python3.11/site-packages/tqdm/auto.py:21: TqdmWarning: IProgress not found. Please update jupyter and ipywidgets. See https://ipywidgets.readthedocs.io/en/stable/user_install.html\n",
      "  from .autonotebook import tqdm as notebook_tqdm\n",
      "/Users/pogus-mac/Documents/Project-VScode/Surgicare/.venv/lib/python3.11/site-packages/transformers/tokenization_utils_base.py:1601: FutureWarning: `clean_up_tokenization_spaces` was not set. It will be set to `True` by default. This behavior will be depracted in transformers v4.45, and will be then set to `False` by default. For more details check this issue: https://github.com/huggingface/transformers/issues/31884\n",
      "  warnings.warn(\n"
     ]
    }
   ],
   "source": [
    "from transformers import CLIPProcessor, CLIPModel\n",
    "from PIL import Image\n",
    "import torch\n",
    "\n",
    "# Load CLIP model and processor\n",
    "model = CLIPModel.from_pretrained(\"openai/clip-vit-base-patch32\")\n",
    "processor = CLIPProcessor.from_pretrained(\"openai/clip-vit-base-patch32\")\n",
    "\n",
    "def extract_wound_features(image_path):\n",
    "    image = Image.open(image_path)\n",
    "    inputs = processor(images=image, return_tensors=\"pt\")\n",
    "    \n",
    "    with torch.no_grad():\n",
    "        image_features = model.get_image_features(**inputs)\n",
    "    \n",
    "    features = ['Wound Color: Red', \n",
    "                'Wound Color: Purple', \n",
    "                'Wound Color: Yellow', \n",
    "                'Wound Color: White', \n",
    "                'Wound Color: Black', \n",
    "                'Presence of Pus', \n",
    "                'Presence of Scab', \n",
    "                'Wound Swelling', \n",
    "                'Wound Temperature: Warm', \n",
    "                'Wound Temperature: Normal', \n",
    "                'Wound Odor: Unpleasant', \n",
    "                'Wound Odor: Neutral', \n",
    "                'Wound Moisture: Dry', \n",
    "                'Wound Moisture: Moist', \n",
    "                'Wound Texture: Smooth', \n",
    "                'Wound Texture: Rough', \n",
    "                'Pain Level: High', \n",
    "                'Pain Level: Low', \n",
    "                'Wound Depth: Superficial', \n",
    "                'Wound Depth: Partial Thickness', \n",
    "                'Wound Depth: Full Thickness', \n",
    "                'Wound Edges: Regular', \n",
    "                'Wound Edges: Irregular', \n",
    "                'Wound Edges: Undermined', \n",
    "                'Skin Color: Normal', \n",
    "                'Skin Color: Hyperpigmented', \n",
    "                'Skin Color: Hypopigmented', \n",
    "                'Skin Integrity: Intact', \n",
    "                'Skin Integrity: Fragile', \n",
    "                'Skin Integrity: Inflamed',]\n",
    "    \n",
    "    # Generate feature scores\n",
    "    feature_scores = {}\n",
    "    for desc in features:\n",
    "        text_inputs = processor(text=desc, return_tensors=\"pt\", padding=True, truncation=True)\n",
    "        with torch.no_grad():\n",
    "            text_features = model.get_text_features(**text_inputs)\n",
    "        similarity = torch.matmul(image_features, text_features.T)\n",
    "        feature_scores[desc] = similarity.item()\n",
    "    \n",
    "    return feature_scores"
   ]
  },
  {
   "cell_type": "code",
   "execution_count": 2,
   "metadata": {},
   "outputs": [
    {
     "data": {
      "text/plain": [
       "{'Wound Color: Red': 27.461889266967773,\n",
       " 'Wound Color: Purple': 25.471132278442383,\n",
       " 'Wound Color: Yellow': 26.60183334350586,\n",
       " 'Wound Color: White': 27.07898712158203,\n",
       " 'Wound Color: Black': 25.4132080078125,\n",
       " 'Presence of Pus': 26.151992797851562,\n",
       " 'Presence of Scab': 27.790040969848633,\n",
       " 'Wound Swelling': 30.877574920654297,\n",
       " 'Wound Temperature: Warm': 28.03964614868164,\n",
       " 'Wound Temperature: Normal': 28.90310287475586,\n",
       " 'Wound Odor: Unpleasant': 27.436513900756836,\n",
       " 'Wound Odor: Neutral': 24.717464447021484,\n",
       " 'Wound Moisture: Dry': 30.4713134765625,\n",
       " 'Wound Moisture: Moist': 29.344802856445312,\n",
       " 'Wound Texture: Smooth': 28.418968200683594,\n",
       " 'Wound Texture: Rough': 26.875099182128906,\n",
       " 'Pain Level: High': 29.186981201171875,\n",
       " 'Pain Level: Low': 29.380271911621094,\n",
       " 'Wound Depth: Superficial': 28.472251892089844,\n",
       " 'Wound Depth: Partial Thickness': 28.916786193847656,\n",
       " 'Wound Depth: Full Thickness': 29.134119033813477,\n",
       " 'Wound Edges: Regular': 29.43178939819336,\n",
       " 'Wound Edges: Irregular': 28.18881607055664,\n",
       " 'Wound Edges: Undermined': 28.66492462158203,\n",
       " 'Skin Color: Normal': 21.355295181274414,\n",
       " 'Skin Color: Hyperpigmented': 23.433855056762695,\n",
       " 'Skin Color: Hypopigmented': 24.408687591552734,\n",
       " 'Skin Integrity: Intact': 26.522933959960938,\n",
       " 'Skin Integrity: Fragile': 23.57318878173828,\n",
       " 'Skin Integrity: Inflamed': 29.099245071411133}"
      ]
     },
     "execution_count": 2,
     "metadata": {},
     "output_type": "execute_result"
    }
   ],
   "source": [
    "wound_features = extract_wound_features('dataset/Pressure Wounds/5_0.jpg')\n",
    "wound_features"
   ]
  }
 ],
 "metadata": {
  "kernelspec": {
   "display_name": ".venv",
   "language": "python",
   "name": "python3"
  },
  "language_info": {
   "codemirror_mode": {
    "name": "ipython",
    "version": 3
   },
   "file_extension": ".py",
   "mimetype": "text/x-python",
   "name": "python",
   "nbconvert_exporter": "python",
   "pygments_lexer": "ipython3",
   "version": "3.11.9"
  }
 },
 "nbformat": 4,
 "nbformat_minor": 2
}
