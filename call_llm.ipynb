{
 "cells": [
  {
   "cell_type": "code",
   "execution_count": 1,
   "metadata": {},
   "outputs": [],
   "source": [
    "user_wound = \"\"\"wound class: Venous Wounds\n",
    "สีบาดแผลที่โดดเด่น: ขาว\n",
    "การมีหนอง: สูง\n",
    "การมีเปลือกแห้ง: สูง\n",
    "การบวมของบาดแผล: สูง\n",
    "อุณหภูมิของบาดแผล: สูง\n",
    "กลิ่นของบาดแผล: สูง\n",
    "ความชื้นของบาดแผล: สูง\n",
    "เนื้อสัมผัสของบาดแผล: สูง\n",
    "ระดับความเจ็บปวด: สูง\n",
    "ความลึกของบาดแผล: สูง\n",
    "ขอบของบาดแผล: สูง\n",
    "สีผิวรอบข้าง: สูง\n",
    "ความสมบูรณ์ของผิวรอบข้าง: สูง\"\"\""
   ]
  },
  {
   "cell_type": "code",
   "execution_count": 7,
   "metadata": {},
   "outputs": [
    {
     "name": "stdout",
     "output_type": "stream",
     "text": [
      "ตามที่คุณแจ้งมา, แผลของคุณเป็น Venous Wounds หรือแผลจากโรคหลอดเลือดดำ. จากข้อมูลที่ได้รับ, ลักษณะแผลของคุณมีดังนี้:\n",
      "\n",
      "1. สีบาดแผลที่โดดเด่นเป็นสีขาว\n",
      "2. มีการมีหนอง, เปลือกแห้ง, และการบวมของบาดแผล\n",
      "3. อุณหภูมิของบาดแผลสูง\n",
      "4. กลิ่นและความชื้นของบาดแผลสูง\n",
      "5. เนื้อสัมผัสของบาดแผลสูง และระดับความเจ็บปวดสูง\n",
      "\n",
      "ในการดูแลแผลของคุณ, คุณควรทำตามขั้นตอนดังนี้:\n",
      "\n",
      "1. รักษาความสะอาดของแผลอย่างสม่ำเสมอ เพื่อป้องกันการติดเชื้อ\n",
      "2. ใช้ผ้าพันแผลที่เหมาะสมและสามารถดูดซับความชื้นได้ดี\n",
      "3. หลีกเลี่ยงการใช้ยาที่ไม่ได้รับการอนุญาตจากแพทย์\n",
      "4. ไม่ควรใช้น้ำร้อนหรือเย็นเกินไปในการล้างแผล\n",
      "5. พยายามลดการเคลื่อนไหวของบริเวณที่มีบาดแผล เพื่อลดการบวม\n",
      "\n",
      "**โปรดทราบว่า การแนะนำนี้เป็นการแนะนำเบื้องต้นเท่านั้น และถ้ามีอาการรุนแรง ควรได้รับการตรวจสอบและยืนยันจากแพทย์ที่ดูแลโดยตรง**"
     ]
    }
   ],
   "source": [
    "from openai import OpenAI\n",
    "import os\n",
    "\n",
    "client = OpenAI(\n",
    "    api_key= \"<Typhoon API>\",\n",
    "    base_url=\"https://api.opentyphoon.ai/v1\",\n",
    ")\n",
    "\n",
    "stream = client.chat.completions.create(\n",
    "    model=\"typhoon-v1.5x-70b-instruct\",\n",
    "    messages=[\n",
    "        {\n",
    "            \"role\": \"system\",\n",
    "            \"content\": \"\"\"\n",
    "            คุณคือ \"คุณหมอ\"\n",
    "            ที่มีหน้าที่ \"แนะนำวิธีรักษาแผลของคนไข้โดยวิเคราะจากข้อมูลที่คนไข้จะให้\"\n",
    "            \n",
    "            โดยพูดทวนลักษณะแผลของคนไข้เบื้องต้น 4-5 ข้อไม่ต้องลงรายละเอียด และแนะนำวิธีการดูแลแผลเป็นข้อๆ\n",
    "            \n",
    "            ** และคุณต้องเตือนเสมอว่าเป็นการแนะนำเบื้องต้น และถ้ามาอาการรุนแรงควรได้รับการตรวจสอบและยืนยันจากแพทย์ที่ดูแลโดยตรง **\n",
    "            \"\"\",\n",
    "        },\n",
    "        {\n",
    "            \"role\": \"user\",\n",
    "            \"content\": f\"{user_wound}\",\n",
    "        }\n",
    "    ],\n",
    "    max_tokens=512,\n",
    "    temperature=0.6,\n",
    "    top_p=0.95,\n",
    "    stream=True,\n",
    ")\n",
    "\n",
    "respond=[]\n",
    "for chunk in stream:\n",
    "    if hasattr(chunk, 'choices') and len(chunk.choices) > 0:\n",
    "        choice = chunk.choices[0]\n",
    "        if hasattr(choice, 'delta') and hasattr(choice.delta, 'content'):\n",
    "            if choice.delta.content is not None:\n",
    "                respond.append(choice.delta.content)\n",
    "                print(choice.delta.content, end='')"
   ]
  }
 ],
 "metadata": {
  "kernelspec": {
   "display_name": "Python 3",
   "language": "python",
   "name": "python3"
  },
  "language_info": {
   "codemirror_mode": {
    "name": "ipython",
    "version": 3
   },
   "file_extension": ".py",
   "mimetype": "text/x-python",
   "name": "python",
   "nbconvert_exporter": "python",
   "pygments_lexer": "ipython3",
   "version": "3.11.9"
  }
 },
 "nbformat": 4,
 "nbformat_minor": 4
}
