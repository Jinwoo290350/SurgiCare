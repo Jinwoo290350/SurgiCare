{
 "cells": [
  {
   "cell_type": "code",
   "execution_count": 1,
   "metadata": {},
   "outputs": [
    {
     "name": "stderr",
     "output_type": "stream",
     "text": [
      "/Users/pogus-mac/Documents/Project-VScode/Surgicare/.venv/lib/python3.11/site-packages/tqdm/auto.py:21: TqdmWarning: IProgress not found. Please update jupyter and ipywidgets. See https://ipywidgets.readthedocs.io/en/stable/user_install.html\n",
      "  from .autonotebook import tqdm as notebook_tqdm\n",
      "/Users/pogus-mac/Documents/Project-VScode/Surgicare/.venv/lib/python3.11/site-packages/transformers/tokenization_utils_base.py:1601: FutureWarning: `clean_up_tokenization_spaces` was not set. It will be set to `True` by default. This behavior will be depracted in transformers v4.45, and will be then set to `False` by default. For more details check this issue: https://github.com/huggingface/transformers/issues/31884\n",
      "  warnings.warn(\n"
     ]
    }
   ],
   "source": [
    "from utils.extract_wound_class import extract_wound_class\n",
    "from utils.extract_wound_features import extract_wound_features\n",
    "from utils.analyze_wound_features import analyze_wound_features"
   ]
  },
  {
   "cell_type": "code",
   "execution_count": 2,
   "metadata": {},
   "outputs": [],
   "source": [
    "def analyze_wound(img_path, lang='th'):\n",
    "\n",
    "    wound_class = extract_wound_class(img_path)\n",
    "    wound_features = extract_wound_features(img_path)\n",
    "    wound_assessment = analyze_wound_features(wound_features, lang)\n",
    "    \n",
    "\n",
    "    result = f\"wound class: {wound_class}\\n\"\n",
    "    \n",
    "    for key, value in wound_assessment.items():\n",
    "        result += f\"{key}: {value}\\n\"\n",
    "    \n",
    "    return result"
   ]
  },
  {
   "cell_type": "code",
   "execution_count": 3,
   "metadata": {},
   "outputs": [
    {
     "name": "stderr",
     "output_type": "stream",
     "text": [
      "WARNING: All log messages before absl::InitializeLog() is called are written to STDERR\n",
      "I0000 00:00:1726212768.825894 1615655 service.cc:146] XLA service 0x383213fb0 initialized for platform Host (this does not guarantee that XLA will be used). Devices:\n",
      "I0000 00:00:1726212768.825914 1615655 service.cc:154]   StreamExecutor device (0): Host, Default Version\n",
      "2024-09-13 14:32:48.914465: I tensorflow/compiler/mlir/tensorflow/utils/dump_mlir_util.cc:268] disabling MLIR crash reproducer, set env var `MLIR_CRASH_REPRODUCER_DIRECTORY` to enable.\n",
      "I0000 00:00:1726212770.519859 1615655 device_compiler.h:188] Compiled cluster using XLA!  This line is logged at most once for the lifetime of the process.\n"
     ]
    },
    {
     "name": "stdout",
     "output_type": "stream",
     "text": [
      "\u001b[1m1/1\u001b[0m \u001b[32m━━━━━━━━━━━━━━━━━━━━\u001b[0m\u001b[37m\u001b[0m \u001b[1m4s\u001b[0m 4s/step\n",
      "wound class: Venous Wounds\n",
      "สีบาดแผลที่โดดเด่น: ขาว\n",
      "การมีหนอง: สูง\n",
      "การมีเปลือกแห้ง: สูง\n",
      "การบวมของบาดแผล: สูง\n",
      "อุณหภูมิของบาดแผล: สูง\n",
      "กลิ่นของบาดแผล: สูง\n",
      "ความชื้นของบาดแผล: สูง\n",
      "เนื้อสัมผัสของบาดแผล: สูง\n",
      "ระดับความเจ็บปวด: สูง\n",
      "ความลึกของบาดแผล: สูง\n",
      "ขอบของบาดแผล: สูง\n",
      "สีผิวรอบข้าง: สูง\n",
      "ความสมบูรณ์ของผิวรอบข้าง: สูง\n",
      "\n"
     ]
    }
   ],
   "source": [
    "print(analyze_wound('dataset/Normal/4.jpg'))"
   ]
  },
  {
   "cell_type": "code",
   "execution_count": 4,
   "metadata": {},
   "outputs": [
    {
     "name": "stdout",
     "output_type": "stream",
     "text": [
      "\u001b[1m1/1\u001b[0m \u001b[32m━━━━━━━━━━━━━━━━━━━━\u001b[0m\u001b[37m\u001b[0m \u001b[1m3s\u001b[0m 3s/step\n",
      "wound class: Venous Wounds\n",
      "Dominant Wound Color: White\n",
      "Presence of Pus: high\n",
      "Presence of Scab: high\n",
      "Wound Swelling: high\n",
      "Wound Temperature: high\n",
      "Wound Odor: high\n",
      "Wound Moisture: high\n",
      "Wound Texture: high\n",
      "Pain Level: high\n",
      "Wound Depth: high\n",
      "Wound Edges: high\n",
      "Skin Color: high\n",
      "Skin Integrity: high\n",
      "\n"
     ]
    }
   ],
   "source": [
    "print(analyze_wound('dataset/Normal/4.jpg', 'en'))"
   ]
  }
 ],
 "metadata": {
  "kernelspec": {
   "display_name": ".venv",
   "language": "python",
   "name": "python3"
  },
  "language_info": {
   "codemirror_mode": {
    "name": "ipython",
    "version": 3
   },
   "file_extension": ".py",
   "mimetype": "text/x-python",
   "name": "python",
   "nbconvert_exporter": "python",
   "pygments_lexer": "ipython3",
   "version": "3.11.9"
  }
 },
 "nbformat": 4,
 "nbformat_minor": 2
}
