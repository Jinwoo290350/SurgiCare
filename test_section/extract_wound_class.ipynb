{
 "cells": [
  {
   "cell_type": "code",
   "execution_count": 1,
   "metadata": {},
   "outputs": [],
   "source": [
    "import keras\n",
    "from keras.preprocessing import image\n",
    "import numpy as np\n",
    "\n",
    "def extract_wound_class(model_path, img_path):\n",
    "    class_labels = {0: 'Abrasions',\n",
    "                    1: 'Bruises',\n",
    "                    2: 'Burns',\n",
    "                    3: 'Cut',\n",
    "                    4: 'Diabetic Wounds',\n",
    "                    5: 'Laseration',\n",
    "                    6: 'Normal',\n",
    "                    7: 'Pressure Wounds',\n",
    "                    8: 'Surgical Wounds',\n",
    "                    9: 'Venous Wounds'}\n",
    "    best_model = keras.saving.load_model(model_path)\n",
    "    \n",
    "    img = image.load_img(img_path, target_size=(300, 300))  # Match model's input size\n",
    "\n",
    "    img_array = image.img_to_array(img)\n",
    "    img_array = np.expand_dims(img_array, axis=0)  # Add batch dimension\n",
    "    \n",
    "    predictions = best_model.predict(img_array)\n",
    "\n",
    "    predicted_index = np.argmax(predictions)\n",
    "    \n",
    "    if predicted_index == 5:\n",
    "        # Don't include Laseration\n",
    "        second_highest_index = np.argsort(predictions[0])[-2]\n",
    "        predicted_index = second_highest_index\n",
    "    \n",
    "    predicted_class = class_labels[predicted_index]\n",
    "\n",
    "    return predicted_class, predictions\n"
   ]
  },
  {
   "cell_type": "code",
   "execution_count": 5,
   "metadata": {},
   "outputs": [
    {
     "name": "stdout",
     "output_type": "stream",
     "text": [
      "\u001b[1m1/1\u001b[0m \u001b[32m━━━━━━━━━━━━━━━━━━━━\u001b[0m\u001b[37m\u001b[0m \u001b[1m4s\u001b[0m 4s/step\n",
      "('Venous Wounds', array([[0.00198451, 0.00246532, 0.01539434, 0.02097153, 0.02847598,\n",
      "        0.00150697, 0.13058609, 0.12139658, 0.01706356, 0.6601551 ]],\n",
      "      dtype=float32))\n"
     ]
    }
   ],
   "source": [
    "print(extract_wound_class('../wound_classify_train/Surgicare_V1_best_model.keras', '../dataset/Normal/4.jpg'))"
   ]
  }
 ],
 "metadata": {
  "kernelspec": {
   "display_name": ".venv",
   "language": "python",
   "name": "python3"
  },
  "language_info": {
   "codemirror_mode": {
    "name": "ipython",
    "version": 3
   },
   "file_extension": ".py",
   "mimetype": "text/x-python",
   "name": "python",
   "nbconvert_exporter": "python",
   "pygments_lexer": "ipython3",
   "version": "3.11.9"
  }
 },
 "nbformat": 4,
 "nbformat_minor": 2
}
